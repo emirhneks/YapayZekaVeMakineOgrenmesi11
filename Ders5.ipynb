{
  "nbformat": 4,
  "nbformat_minor": 0,
  "metadata": {
    "colab": {
      "provenance": [],
      "authorship_tag": "ABX9TyNyokjc+xbb7sgykWizo6qw",
      "include_colab_link": true
    },
    "kernelspec": {
      "name": "python3",
      "display_name": "Python 3"
    },
    "language_info": {
      "name": "python"
    }
  },
  "cells": [
    {
      "cell_type": "markdown",
      "metadata": {
        "id": "view-in-github",
        "colab_type": "text"
      },
      "source": [
        "<a href=\"https://colab.research.google.com/github/emirhneks/YapayZekaVeMakineOgrenmesi11/blob/main/numpy_1243.ipynb\" target=\"_parent\"><img src=\"https://colab.research.google.com/assets/colab-badge.svg\" alt=\"Open In Colab\"/></a>"
      ]
    },
    {
      "cell_type": "code",
      "execution_count": 1,
      "metadata": {
        "id": "8far9ifDKBCn"
      },
      "outputs": [],
      "source": [
        "import numpy as np"
      ]
    },
    {
      "cell_type": "markdown",
      "source": [
        "# 1) (10,15,30,45,60) değerlerine sahip numpy dizisi oluştur"
      ],
      "metadata": {
        "id": "B2kMAfWOKCUV"
      }
    },
    {
      "cell_type": "code",
      "source": [
        "result = np.array([10,15,30,45,60])\n",
        "print(result)"
      ],
      "metadata": {
        "colab": {
          "base_uri": "https://localhost:8080/"
        },
        "id": "DGqW3JPQKEia",
        "outputId": "a2222cfb-469b-45db-8751-d4d8887b51f0"
      },
      "execution_count": 2,
      "outputs": [
        {
          "output_type": "stream",
          "name": "stdout",
          "text": [
            "[10 15 30 45 60]\n"
          ]
        }
      ]
    },
    {
      "cell_type": "markdown",
      "source": [
        "# 2) (5-15) arasındaki sayılarla numpy dizisi oluştur"
      ],
      "metadata": {
        "id": "NxeMa9REKJFK"
      }
    },
    {
      "cell_type": "code",
      "source": [
        "result = np.arange(5,15)\n",
        "print(result)"
      ],
      "metadata": {
        "colab": {
          "base_uri": "https://localhost:8080/"
        },
        "id": "agFotrh5KLKx",
        "outputId": "9f3639f9-bbbf-4d48-d6c3-42448884994d"
      },
      "execution_count": 3,
      "outputs": [
        {
          "output_type": "stream",
          "name": "stdout",
          "text": [
            "[ 5  6  7  8  9 10 11 12 13 14]\n"
          ]
        }
      ]
    },
    {
      "cell_type": "markdown",
      "source": [
        "# 3) (50-100) arasında 5'er 5'er artacak numpy dizisi oluştur"
      ],
      "metadata": {
        "id": "MxO3tf5KKNhP"
      }
    },
    {
      "cell_type": "code",
      "source": [
        "result = np.arange(50,100,5)\n",
        "print(result)"
      ],
      "metadata": {
        "colab": {
          "base_uri": "https://localhost:8080/"
        },
        "id": "MpGuVgI9KPPr",
        "outputId": "77710561-8be4-4362-8cf2-45c9abd2527e"
      },
      "execution_count": 4,
      "outputs": [
        {
          "output_type": "stream",
          "name": "stdout",
          "text": [
            "[50 55 60 65 70 75 80 85 90 95]\n"
          ]
        }
      ]
    },
    {
      "cell_type": "markdown",
      "source": [
        "# 4) 10 elemanlı sıfırlardan oluşan bir dizi oluştur"
      ],
      "metadata": {
        "id": "sQLhyw4DKuT3"
      }
    },
    {
      "cell_type": "code",
      "source": [
        "result = np.zeros(10)\n",
        "print(result)"
      ],
      "metadata": {
        "colab": {
          "base_uri": "https://localhost:8080/"
        },
        "id": "TZ62xVwOLJ51",
        "outputId": "50dc90f1-2818-4084-cbc9-ba56023a09d1"
      },
      "execution_count": 5,
      "outputs": [
        {
          "output_type": "stream",
          "name": "stdout",
          "text": [
            "[0. 0. 0. 0. 0. 0. 0. 0. 0. 0.]\n"
          ]
        }
      ]
    },
    {
      "cell_type": "markdown",
      "source": [
        "# 5) 10 elemanlı birlerden oluşan bir dizi oluştur"
      ],
      "metadata": {
        "id": "xqjXYLPaLScF"
      }
    },
    {
      "cell_type": "code",
      "source": [
        "result = np.ones(10)\n",
        "print(result)"
      ],
      "metadata": {
        "colab": {
          "base_uri": "https://localhost:8080/"
        },
        "id": "2bu_h720LZkk",
        "outputId": "1684d66d-57ff-4bad-99a8-83c66007edda"
      },
      "execution_count": 6,
      "outputs": [
        {
          "output_type": "stream",
          "name": "stdout",
          "text": [
            "[1. 1. 1. 1. 1. 1. 1. 1. 1. 1.]\n"
          ]
        }
      ]
    },
    {
      "cell_type": "markdown",
      "source": [
        "# 6) (0-100) arasında eşit aralıklı 5 sayı üret"
      ],
      "metadata": {
        "id": "S_bC5p7KLceX"
      }
    },
    {
      "cell_type": "code",
      "source": [
        "result = np.linspace(0,100,5)\n",
        "print(result)"
      ],
      "metadata": {
        "colab": {
          "base_uri": "https://localhost:8080/"
        },
        "id": "4lCD_YzxMIim",
        "outputId": "2748dd9f-a013-4e4c-f472-0a154d217db4"
      },
      "execution_count": 7,
      "outputs": [
        {
          "output_type": "stream",
          "name": "stdout",
          "text": [
            "[  0.  25.  50.  75. 100.]\n"
          ]
        }
      ]
    },
    {
      "cell_type": "markdown",
      "source": [
        "# 7) (10-30) arasında rastgele 5 tane tam sayı üret"
      ],
      "metadata": {
        "id": "J0OGVu89MO2j"
      }
    },
    {
      "cell_type": "code",
      "source": [
        "result = np.random.randint(10,30,5)\n",
        "print(result)"
      ],
      "metadata": {
        "colab": {
          "base_uri": "https://localhost:8080/"
        },
        "id": "sZjLfMkKMvkS",
        "outputId": "540efeb0-ab22-42e9-94be-2e5f21f965ac"
      },
      "execution_count": 8,
      "outputs": [
        {
          "output_type": "stream",
          "name": "stdout",
          "text": [
            "[24 28 11 11 10]\n"
          ]
        }
      ]
    },
    {
      "cell_type": "markdown",
      "source": [
        "# 8) [-1 ile 1] arasında 10 adet sayı üret"
      ],
      "metadata": {
        "id": "YV5a_U-_MzFc"
      }
    },
    {
      "cell_type": "code",
      "source": [
        "result = np.random.rand(10)\n",
        "print(result)"
      ],
      "metadata": {
        "colab": {
          "base_uri": "https://localhost:8080/"
        },
        "id": "Lnw0tF2gNpw-",
        "outputId": "f63570b1-9b9f-4ab1-dde8-85698bb16a70"
      },
      "execution_count": 9,
      "outputs": [
        {
          "output_type": "stream",
          "name": "stdout",
          "text": [
            "[0.48033738 0.18618491 0.6501616  0.46191494 0.68292268 0.03514537\n",
            " 0.21043574 0.14201085 0.00788641 0.49729539]\n"
          ]
        }
      ]
    },
    {
      "cell_type": "markdown",
      "source": [
        "# 9) (3x5) boyutlarında (10-50) arasında rastgele bir matris oluştur"
      ],
      "metadata": {
        "id": "IfmWoOwMNwiJ"
      }
    },
    {
      "cell_type": "code",
      "source": [
        "result = np.random.randint(10,50,15).reshape(3,5)\n",
        "print(result)"
      ],
      "metadata": {
        "colab": {
          "base_uri": "https://localhost:8080/"
        },
        "id": "OwgG84hVOD67",
        "outputId": "0f128e28-5d16-4eea-8987-ad1ea97ca7da"
      },
      "execution_count": 10,
      "outputs": [
        {
          "output_type": "stream",
          "name": "stdout",
          "text": [
            "[[17 37 31 42 45]\n",
            " [46 34 11 15 23]\n",
            " [34 33 47 22 47]]\n"
          ]
        }
      ]
    },
    {
      "cell_type": "markdown",
      "source": [
        "# 10) Üretilen matrisin satır ve sütun sayıları toplamını hesapla"
      ],
      "metadata": {
        "id": "eflslvSAOU29"
      }
    },
    {
      "cell_type": "code",
      "source": [
        "matris = np.random.randint(10,50,15).reshape(3,5)\n",
        "rowTotal = matris.sum(axis=1)\n",
        "colTotal = matris.sum(axis=0)\n",
        "print(matris)\n",
        "print(rowTotal)\n",
        "print(colTotal)"
      ],
      "metadata": {
        "colab": {
          "base_uri": "https://localhost:8080/"
        },
        "id": "hqfMXqeOOsCV",
        "outputId": "b82d26f8-810c-4834-df6e-1ca6bcb6e54f"
      },
      "execution_count": 11,
      "outputs": [
        {
          "output_type": "stream",
          "name": "stdout",
          "text": [
            "[[28 23 14 34 10]\n",
            " [20 21 44 22 31]\n",
            " [35 21 42 27 45]]\n",
            "[109 138 170]\n",
            "[ 83  65 100  83  86]\n"
          ]
        }
      ]
    },
    {
      "cell_type": "markdown",
      "source": [
        "# 11) Üretilen matrisin en büyük, en küçük ve ortalaması nedir"
      ],
      "metadata": {
        "id": "-zYOll0MO8ZV"
      }
    },
    {
      "cell_type": "code",
      "source": [
        "matris = np.random.randint(10,50,15).reshape(3,5)\n",
        "max = matris.max()\n",
        "min = matris.min()\n",
        "mean = matris.mean()\n",
        "print(matris)\n",
        "print(max)\n",
        "print(min)\n",
        "print(mean)"
      ],
      "metadata": {
        "id": "r5LhErQJPPW4",
        "colab": {
          "base_uri": "https://localhost:8080/"
        },
        "outputId": "de0e7212-6a16-4032-9eff-18c4774f52a1"
      },
      "execution_count": 12,
      "outputs": [
        {
          "output_type": "stream",
          "name": "stdout",
          "text": [
            "[[37 18 12 18 11]\n",
            " [17 44 34 17 29]\n",
            " [29 21 30 25 32]]\n",
            "44\n",
            "11\n",
            "24.933333333333334\n"
          ]
        }
      ]
    },
    {
      "cell_type": "markdown",
      "source": [
        "# 12) Üretilen matrisin en büyük değerinin indeksi kaçtır"
      ],
      "metadata": {
        "id": "VaTBR6E5KgEb"
      }
    },
    {
      "cell_type": "code",
      "source": [
        "matris = np.random.randint(10,50,15).reshape(3,5)\n",
        "result = matris.argmax()\n",
        "print(matris)\n",
        "print(result)"
      ],
      "metadata": {
        "colab": {
          "base_uri": "https://localhost:8080/"
        },
        "id": "gjex2vXOKmr1",
        "outputId": "15f1f0b3-3d50-44b5-e45c-e843bd11064c"
      },
      "execution_count": 13,
      "outputs": [
        {
          "output_type": "stream",
          "name": "stdout",
          "text": [
            "[[48 49 36 30 35]\n",
            " [43 17 24 16 30]\n",
            " [27 15 48 40 49]]\n",
            "1\n"
          ]
        }
      ]
    },
    {
      "cell_type": "markdown",
      "source": [
        "# 13) (10-20) arasındaki sayıları içeren dizinin ilk 3 elemanını seç"
      ],
      "metadata": {
        "id": "SLVmK5ObKvDP"
      }
    },
    {
      "cell_type": "code",
      "source": [
        "arr = np.arange(10,20)\n",
        "result = arr[:3]\n",
        "print(arr)\n",
        "print(result)"
      ],
      "metadata": {
        "colab": {
          "base_uri": "https://localhost:8080/"
        },
        "id": "B3jxpNR8K9q3",
        "outputId": "3cfbfdf2-4f55-40cf-dbfd-ad8417192caa"
      },
      "execution_count": 14,
      "outputs": [
        {
          "output_type": "stream",
          "name": "stdout",
          "text": [
            "[10 11 12 13 14 15 16 17 18 19]\n",
            "[10 11 12]\n"
          ]
        }
      ]
    },
    {
      "cell_type": "markdown",
      "source": [
        "# 14) Üretilen dizinin elemanlarını tersten yaz"
      ],
      "metadata": {
        "id": "zaGgUhlcK_1S"
      }
    },
    {
      "cell_type": "code",
      "source": [
        "arr = np.arange(10,20)\n",
        "result = arr[::-1]\n",
        "print(arr)\n",
        "print(result)"
      ],
      "metadata": {
        "colab": {
          "base_uri": "https://localhost:8080/"
        },
        "id": "PJopl5wuLKDZ",
        "outputId": "456c8e44-7e53-4f01-e82b-a0dc3dc4c4e5"
      },
      "execution_count": 15,
      "outputs": [
        {
          "output_type": "stream",
          "name": "stdout",
          "text": [
            "[10 11 12 13 14 15 16 17 18 19]\n",
            "[19 18 17 16 15 14 13 12 11 10]\n"
          ]
        }
      ]
    },
    {
      "cell_type": "markdown",
      "source": [
        "# 15) Üretilen matrisin ilk satırını seç"
      ],
      "metadata": {
        "id": "DJAWGQchLO5A"
      }
    },
    {
      "cell_type": "code",
      "source": [
        "matris = np.random.randint(10,50,15).reshape(3,5)\n",
        "result = matris[0]\n",
        "print(matris)\n",
        "print(result)"
      ],
      "metadata": {
        "colab": {
          "base_uri": "https://localhost:8080/"
        },
        "id": "zWcHtGJ9LVph",
        "outputId": "321f85ae-eb39-44d6-8d00-6c0230af7d3f"
      },
      "execution_count": 16,
      "outputs": [
        {
          "output_type": "stream",
          "name": "stdout",
          "text": [
            "[[30 46 45 26 20]\n",
            " [21 27 26 36 33]\n",
            " [31 43 48 25 24]]\n",
            "[30 46 45 26 20]\n"
          ]
        }
      ]
    },
    {
      "cell_type": "markdown",
      "source": [
        "# 16) Üretilen matrisin 2. satır 3. sütundaki elemanı nedir"
      ],
      "metadata": {
        "id": "fxOk5f-lLZ4I"
      }
    },
    {
      "cell_type": "code",
      "source": [
        "matris = np.random.randint(10,50,15).reshape(3,5)\n",
        "result = matris[1,2]\n",
        "print(matris)\n",
        "print(result)"
      ],
      "metadata": {
        "colab": {
          "base_uri": "https://localhost:8080/"
        },
        "id": "dPSiwQiyLpVl",
        "outputId": "1c515b24-1fd7-44ac-b2d2-232dbfc021dd"
      },
      "execution_count": 17,
      "outputs": [
        {
          "output_type": "stream",
          "name": "stdout",
          "text": [
            "[[43 43 18 39 38]\n",
            " [30 48 23 44 25]\n",
            " [11 39 30 30 29]]\n",
            "23\n"
          ]
        }
      ]
    },
    {
      "cell_type": "markdown",
      "source": [
        "# 17) Üretilen matrisin tüm satırlarındaki ilk elemanı seç"
      ],
      "metadata": {
        "id": "FbzR-5MBLwwT"
      }
    },
    {
      "cell_type": "code",
      "source": [
        "matris = np.random.randint(10,50,15).reshape(3,5)\n",
        "result = matris[:,0]\n",
        "print(matris)\n",
        "print(result)"
      ],
      "metadata": {
        "colab": {
          "base_uri": "https://localhost:8080/"
        },
        "id": "WdBoqvWEL_pY",
        "outputId": "8e6b736b-002b-4b70-c7ff-113071cfe8fe"
      },
      "execution_count": 18,
      "outputs": [
        {
          "output_type": "stream",
          "name": "stdout",
          "text": [
            "[[20 38 36 47 15]\n",
            " [28 33 36 28 28]\n",
            " [13 34 27 10 49]]\n",
            "[20 28 13]\n"
          ]
        }
      ]
    },
    {
      "cell_type": "markdown",
      "source": [
        "# 18) Üretilen matrisin her bir elemanının karesini al"
      ],
      "metadata": {
        "id": "XXkdjM2jMDKY"
      }
    },
    {
      "cell_type": "code",
      "source": [
        "matris = np.random.randint(10,50,15).reshape(3,5)\n",
        "result = matris ** 2\n",
        "print(matris)\n",
        "print(result)"
      ],
      "metadata": {
        "colab": {
          "base_uri": "https://localhost:8080/"
        },
        "id": "b6FKK9BAMKOd",
        "outputId": "b87eb7a5-6540-4105-89f7-6d7f7f0a86a8"
      },
      "execution_count": 19,
      "outputs": [
        {
          "output_type": "stream",
          "name": "stdout",
          "text": [
            "[[25 46 42 38 35]\n",
            " [29 45 49 39 47]\n",
            " [20 43 28 45 36]]\n",
            "[[ 625 2116 1764 1444 1225]\n",
            " [ 841 2025 2401 1521 2209]\n",
            " [ 400 1849  784 2025 1296]]\n"
          ]
        }
      ]
    },
    {
      "cell_type": "markdown",
      "source": [
        "# 19) Üretilen matris elemanlarının hangileri pozitif çift sayıdır"
      ],
      "metadata": {
        "id": "BoE3yNP1MLbT"
      }
    },
    {
      "cell_type": "code",
      "source": [
        "matris = np.random.randint(10,50,15).reshape(3,5)\n",
        "ciftler = matris[matris % 2 == 0]\n",
        "result = ciftler[ciftler > 0]\n",
        "print(matris)\n",
        "print(result)"
      ],
      "metadata": {
        "colab": {
          "base_uri": "https://localhost:8080/"
        },
        "id": "kua42_LTMaBg",
        "outputId": "6309a1bd-3abd-401c-fff5-fcfa7bfc2389"
      },
      "execution_count": 20,
      "outputs": [
        {
          "output_type": "stream",
          "name": "stdout",
          "text": [
            "[[12 20 36 12 24]\n",
            " [31 23 17 16 43]\n",
            " [15 18 26 46 32]]\n",
            "[12 20 36 12 24 16 18 26 46 32]\n"
          ]
        }
      ]
    }
  ]
}
